{
 "cells": [
  {
   "cell_type": "markdown",
   "id": "3845815e",
   "metadata": {},
   "source": [
    "# Generic Huggingface Transformers Agent"
   ]
  },
  {
   "cell_type": "markdown",
   "id": "d7087a6a",
   "metadata": {},
   "source": [
    "### First install all relevant packages"
   ]
  },
  {
   "cell_type": "code",
   "execution_count": 1,
   "id": "0b9c607e",
   "metadata": {},
   "outputs": [],
   "source": [
    "#pip install --upgrade huggingface_hub transformers[agents] mem0ai ollama duckduckgo-search"
   ]
  },
  {
   "cell_type": "markdown",
   "id": "d6ab62a9",
   "metadata": {},
   "source": [
    "### Then import the needed libraries"
   ]
  },
  {
   "cell_type": "code",
   "execution_count": 3,
   "id": "7bade59a",
   "metadata": {},
   "outputs": [],
   "source": [
    "from transformers.agents import HfApiEngine, ReactJsonAgent"
   ]
  },
  {
   "cell_type": "code",
   "execution_count": 4,
   "id": "90ca738b",
   "metadata": {},
   "outputs": [],
   "source": [
    "from huggingface_hub import login, InferenceClient "
   ]
  },
  {
   "cell_type": "code",
   "execution_count": 5,
   "id": "26244ef6",
   "metadata": {},
   "outputs": [],
   "source": [
    "import torch, json, os, re"
   ]
  },
  {
   "cell_type": "markdown",
   "id": "7adbfdeb",
   "metadata": {},
   "source": [
    "### Login to Huggingface to use their architecture"
   ]
  },
  {
   "cell_type": "code",
   "execution_count": 9,
   "id": "c517000d",
   "metadata": {},
   "outputs": [
    {
     "name": "stdout",
     "output_type": "stream",
     "text": [
      "The token has not been saved to the git credentials helper. Pass `add_to_git_credential=True` in this function directly or `--add-to-git-credential` if using via `huggingface-cli` if you want to set the git credential as well.\n",
      "Token is valid (permission: read).\n",
      "Your token has been saved to /home/moebius/.cache/huggingface/token\n",
      "Login successful\n"
     ]
    }
   ],
   "source": [
    "hf_token = \"<YOUR TOKEN>\"\n",
    "login(hf_token) "
   ]
  },
  {
   "cell_type": "markdown",
   "id": "9fd0d48b",
   "metadata": {},
   "source": [
    "### Now define the repositity you want to use"
   ]
  },
  {
   "cell_type": "code",
   "execution_count": 7,
   "id": "6b91ac04",
   "metadata": {},
   "outputs": [],
   "source": [
    "repo_id = \"mistralai/Mistral-Small-Instruct-2409\""
   ]
  },
  {
   "cell_type": "markdown",
   "id": "edd961da",
   "metadata": {},
   "source": [
    "## Select the right remote engine "
   ]
  },
  {
   "cell_type": "code",
   "execution_count": 8,
   "id": "b3ee4b86",
   "metadata": {},
   "outputs": [],
   "source": [
    "llm_engine = HfApiEngine(model=repo_id)  "
   ]
  },
  {
   "cell_type": "markdown",
   "id": "7a9ffb43",
   "metadata": {},
   "source": [
    "## And setup the agent"
   ]
  },
  {
   "cell_type": "markdown",
   "id": "612ae8e1",
   "metadata": {},
   "source": [
    "#####    How can I build an agent?\n",
    "\n",
    "To initialize an agent, you need these arguments:\n",
    "\n",
    "   1. an LLM to power your agent (Mistral in this case)- the agent is not exactly the LLM, it’s more like the agent is a program that uses an LLM as its engine.\n",
    "   2. a system prompt: what the LLM engine will be prompted with to generate its output\n",
    "   3.  a toolbox from which the agent pick tools to execute\n",
    "   4.  a parser to extract from the LLM output which tools are to call and with which arguments"
   ]
  },
  {
   "cell_type": "code",
   "execution_count": 9,
   "id": "2d1b1c3d",
   "metadata": {},
   "outputs": [],
   "source": [
    "agent = ReactJsonAgent(tools=[], llm_engine=llm_engine,add_base_tools = True)"
   ]
  },
  {
   "cell_type": "code",
   "execution_count": null,
   "id": "758c1a4f",
   "metadata": {},
   "outputs": [
    {
     "name": "stderr",
     "output_type": "stream",
     "text": [
      "\u001b[32;20;1m======== New task ========\u001b[0m\n",
      "\u001b[37;1mWhat's the current weather in Honolulu?\u001b[0m\n",
      "\u001b[33;1m=== Agent thoughts:\u001b[0m\n",
      "\u001b[0mThought: I need to get the current weather information for Honolulu. I will use the 'web_search' tool to find the relevant information.\u001b[0m\n",
      "\u001b[33;1m>>> Calling tool: 'web_search' with arguments: {'query': 'current weather in Honolulu'}\u001b[0m\n",
      "\u001b[33;1m=== Agent thoughts:\u001b[0m\n",
      "\u001b[0mThought: I need to perform a web search to get the current weather in Honolulu. I will use the 'web_search' tool for this.\u001b[0m\n",
      "\u001b[33;1m>>> Calling tool: 'web_search' with arguments: {'query': 'current weather in Honolulu'}\u001b[0m\n",
      "\u001b[31;20mlist index out of range\u001b[0m\n",
      "Traceback (most recent call last):\n",
      "  File \"/home/moebius/Projects/HF_Data/venv/lib/python3.12/site-packages/transformers/agents/agents.py\", line 503, in extract_action\n",
      "    split[-2],\n",
      "    ~~~~~^^^^\n",
      "IndexError: list index out of range\n",
      "\u001b[31;20mError: No 'Action:' token provided in your output.\n",
      "Your output:\n",
      " ```json\n",
      "{\n",
      "  \"action\": \"final_answer\",\n",
      "  \"action_input\": \"The weather in Honolulu today is partly sunny with a high near 88°F and a 30% chance of scattered showers, mainly before noon. Winds are breezy from the east northeast at 15 to 17 mph, with gusts as high as 24 mph. Overnight, expect partly cloudy conditions with a low around 72°F and scattered showers possible after midnight.\"\n",
      "}\n",
      "\n",
      ". Be sure to include an action, prefaced with 'Action:'!\u001b[0m\n",
      "Traceback (most recent call last):\n",
      "  File \"/home/moebius/Projects/HF_Data/venv/lib/python3.12/site-packages/transformers/agents/agents.py\", line 503, in extract_action\n",
      "    split[-2],\n",
      "    ~~~~~^^^^\n",
      "IndexError: list index out of range\n",
      "\n",
      "During handling of the above exception, another exception occurred:\n",
      "\n",
      "Traceback (most recent call last):\n",
      "  File \"/home/moebius/Projects/HF_Data/venv/lib/python3.12/site-packages/transformers/agents/agents.py\", line 811, in direct_run\n",
      "    step_logs = self.step()\n",
      "                ^^^^^^^^^^^\n",
      "  File \"/home/moebius/Projects/HF_Data/venv/lib/python3.12/site-packages/transformers/agents/agents.py\", line 988, in step\n",
      "    rationale, action = self.extract_action(llm_output=llm_output, split_token=\"Action:\")\n",
      "                        ^^^^^^^^^^^^^^^^^^^^^^^^^^^^^^^^^^^^^^^^^^^^^^^^^^^^^^^^^^^^^^^^^\n",
      "  File \"/home/moebius/Projects/HF_Data/venv/lib/python3.12/site-packages/transformers/agents/agents.py\", line 508, in extract_action\n",
      "    raise AgentParsingError(\n",
      "transformers.agents.agents.AgentParsingError: Error: No 'Action:' token provided in your output.\n",
      "Your output:\n",
      " ```json\n",
      "{\n",
      "  \"action\": \"final_answer\",\n",
      "  \"action_input\": \"The weather in Honolulu today is partly sunny with a high near 88°F and a 30% chance of scattered showers, mainly before noon. Winds are breezy from the east northeast at 15 to 17 mph, with gusts as high as 24 mph. Overnight, expect partly cloudy conditions with a low around 72°F and scattered showers possible after midnight.\"\n",
      "}\n",
      "\n",
      ". Be sure to include an action, prefaced with 'Action:'!\n",
      "\u001b[33;1m=== Agent thoughts:\u001b[0m\n",
      "\u001b[0mThought: I need to find the current weather in Honolulu using a web search. After gathering the necessary information, I will summarize it to provide the final answer.\u001b[0m\n",
      "\u001b[33;1m>>> Calling tool: 'web_search' with arguments: {'query': 'current weather in Honolulu'}\u001b[0m\n",
      "\u001b[33;1m=== Agent thoughts:\u001b[0m\n",
      "\u001b[0mThought: I need to find the current weather information for Honolulu.\u001b[0m\n",
      "\u001b[33;1m>>> Calling tool: 'web_search' with arguments: {'query': 'current weather in Honolulu'}\u001b[0m\n",
      "\u001b[33;1m=== Agent thoughts:\u001b[0m\n",
      "\u001b[0mThought: I need to find the relevant information about the current weather in Honolulu from the search results.\u001b[0m\n",
      "\u001b[33;1m>>> Calling tool: 'document_qa' with arguments: {'document': {'type': 'string', 'description': 'Honolulu, HI Weather Forecast, with current conditions, wind, air quality, and what to expect for the next 3 days. Breezy, with an east northeast wind around 16 mph, with gusts as high as 21 mph. Chance of precipitation is 30%. Friday. Scattered showers, mainly before noon. Mostly sunny, with a high near 88. Breezy, with an east northeast wind 15 to 17 mph, with gusts as high as 24 mph. Chance of precipitation is 30%. Friday Night.'}, 'question': {'type': 'string', 'description': 'What is the current weather in Honolulu?'}}\u001b[0m\n",
      "/home/moebius/Projects/HF_Data/venv/lib/python3.12/site-packages/transformers/tokenization_utils_base.py:1617: FutureWarning: `clean_up_tokenization_spaces` was not set. It will be set to `True` by default. This behavior will be deprecated in transformers v4.45, and will be then set to `False` by default. For more details check this issue: https://github.com/huggingface/transformers/issues/31884\n",
      "  warnings.warn(\n"
     ]
    },
    {
     "data": {
      "application/vnd.jupyter.widget-view+json": {
       "model_id": "d4301d693a104c7f90425dc2d27c5a5c",
       "version_major": 2,
       "version_minor": 0
      },
      "text/plain": [
       "pytorch_model.bin:  46%|####5     | 367M/803M [00:00<?, ?B/s]"
      ]
     },
     "metadata": {},
     "output_type": "display_data"
    }
   ],
   "source": [
    "agent.run(\"What's the current weather in Honolulu?\")"
   ]
  },
  {
   "cell_type": "code",
   "execution_count": null,
   "id": "e5e111f7",
   "metadata": {},
   "outputs": [],
   "source": [
    "agent.run(\"What's the 10th Fibonacci number?\")"
   ]
  },
  {
   "cell_type": "code",
   "execution_count": null,
   "id": "646c5225",
   "metadata": {},
   "outputs": [],
   "source": []
  },
  {
   "cell_type": "code",
   "execution_count": null,
   "id": "954b2c0b",
   "metadata": {},
   "outputs": [],
   "source": [
    "\n"
   ]
  },
  {
   "cell_type": "code",
   "execution_count": null,
   "id": "e654f009",
   "metadata": {},
   "outputs": [],
   "source": []
  }
 ],
 "metadata": {
  "kernelspec": {
   "display_name": "venv",
   "language": "python",
   "name": "venv"
  },
  "language_info": {
   "codemirror_mode": {
    "name": "ipython",
    "version": 3
   },
   "file_extension": ".py",
   "mimetype": "text/x-python",
   "name": "python",
   "nbconvert_exporter": "python",
   "pygments_lexer": "ipython3",
   "version": "3.12.3"
  }
 },
 "nbformat": 4,
 "nbformat_minor": 5
}
