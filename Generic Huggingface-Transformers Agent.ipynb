{
 "cells": [
  {
   "cell_type": "markdown",
   "id": "3845815e",
   "metadata": {},
   "source": [
    "# Generic Huggingface Transformers Agent"
   ]
  },
  {
   "cell_type": "markdown",
   "id": "d7087a6a",
   "metadata": {},
   "source": [
    "### First install all relevant packages"
   ]
  },
  {
   "cell_type": "code",
   "execution_count": 2,
   "id": "0b9c607e",
   "metadata": {},
   "outputs": [
    {
     "name": "stdout",
     "output_type": "stream",
     "text": [
      "Requirement already satisfied: huggingface_hub in /home/moebius/Projects/HF_Data/venv/lib/python3.12/site-packages (0.25.2)\n",
      "Requirement already satisfied: duckduckgo-search in /home/moebius/Projects/HF_Data/venv/lib/python3.12/site-packages (6.3.0)\n",
      "Requirement already satisfied: transformers[agents] in /home/moebius/Projects/HF_Data/venv/lib/python3.12/site-packages (4.45.2)\n",
      "Requirement already satisfied: filelock in /home/moebius/Projects/HF_Data/venv/lib/python3.12/site-packages (from huggingface_hub) (3.16.1)\n",
      "Requirement already satisfied: fsspec>=2023.5.0 in /home/moebius/Projects/HF_Data/venv/lib/python3.12/site-packages (from huggingface_hub) (2024.6.1)\n",
      "Requirement already satisfied: packaging>=20.9 in /home/moebius/Projects/HF_Data/venv/lib/python3.12/site-packages (from huggingface_hub) (24.1)\n",
      "Requirement already satisfied: pyyaml>=5.1 in /home/moebius/Projects/HF_Data/venv/lib/python3.12/site-packages (from huggingface_hub) (6.0.1)\n",
      "Requirement already satisfied: requests in /home/moebius/Projects/HF_Data/venv/lib/python3.12/site-packages (from huggingface_hub) (2.32.3)\n",
      "Requirement already satisfied: tqdm>=4.42.1 in /home/moebius/Projects/HF_Data/venv/lib/python3.12/site-packages (from huggingface_hub) (4.66.5)\n",
      "Requirement already satisfied: typing-extensions>=3.7.4.3 in /home/moebius/Projects/HF_Data/venv/lib/python3.12/site-packages (from huggingface_hub) (4.12.2)\n",
      "Requirement already satisfied: numpy>=1.17 in /home/moebius/Projects/HF_Data/venv/lib/python3.12/site-packages (from transformers[agents]) (1.26.4)\n",
      "Requirement already satisfied: regex!=2019.12.17 in /home/moebius/Projects/HF_Data/venv/lib/python3.12/site-packages (from transformers[agents]) (2024.9.11)\n",
      "Requirement already satisfied: safetensors>=0.4.1 in /home/moebius/Projects/HF_Data/venv/lib/python3.12/site-packages (from transformers[agents]) (0.4.5)\n",
      "Requirement already satisfied: tokenizers<0.21,>=0.20 in /home/moebius/Projects/HF_Data/venv/lib/python3.12/site-packages (from transformers[agents]) (0.20.0)\n",
      "Requirement already satisfied: Pillow<=15.0,>=10.0.1 in /home/moebius/Projects/HF_Data/venv/lib/python3.12/site-packages (from transformers[agents]) (10.4.0)\n",
      "Requirement already satisfied: accelerate>=0.26.0 in /home/moebius/Projects/HF_Data/venv/lib/python3.12/site-packages (from transformers[agents]) (1.0.0)\n",
      "Requirement already satisfied: datasets!=2.5.0 in /home/moebius/Projects/HF_Data/venv/lib/python3.12/site-packages (from transformers[agents]) (3.0.0)\n",
      "Requirement already satisfied: diffusers in /home/moebius/Projects/HF_Data/venv/lib/python3.12/site-packages (from transformers[agents]) (0.30.3)\n",
      "Requirement already satisfied: opencv-python in /home/moebius/Projects/HF_Data/venv/lib/python3.12/site-packages (from transformers[agents]) (4.10.0.84)\n",
      "Requirement already satisfied: sentencepiece!=0.1.92,>=0.1.91 in /home/moebius/Projects/HF_Data/venv/lib/python3.12/site-packages (from transformers[agents]) (0.2.0)\n",
      "Requirement already satisfied: torch in /home/moebius/Projects/HF_Data/venv/lib/python3.12/site-packages (from transformers[agents]) (2.4.1)\n",
      "Requirement already satisfied: click>=8.1.7 in /home/moebius/Projects/HF_Data/venv/lib/python3.12/site-packages (from duckduckgo-search) (8.1.7)\n",
      "Requirement already satisfied: primp>=0.6.3 in /home/moebius/Projects/HF_Data/venv/lib/python3.12/site-packages (from duckduckgo-search) (0.6.3)\n",
      "Requirement already satisfied: psutil in /home/moebius/Projects/HF_Data/venv/lib/python3.12/site-packages (from accelerate>=0.26.0->transformers[agents]) (6.0.0)\n",
      "Requirement already satisfied: pyarrow>=15.0.0 in /home/moebius/Projects/HF_Data/venv/lib/python3.12/site-packages (from datasets!=2.5.0->transformers[agents]) (17.0.0)\n",
      "Requirement already satisfied: dill<0.3.9,>=0.3.0 in /home/moebius/Projects/HF_Data/venv/lib/python3.12/site-packages (from datasets!=2.5.0->transformers[agents]) (0.3.8)\n",
      "Requirement already satisfied: pandas in /home/moebius/Projects/HF_Data/venv/lib/python3.12/site-packages (from datasets!=2.5.0->transformers[agents]) (2.2.3)\n",
      "Requirement already satisfied: xxhash in /home/moebius/Projects/HF_Data/venv/lib/python3.12/site-packages (from datasets!=2.5.0->transformers[agents]) (3.5.0)\n",
      "Requirement already satisfied: multiprocess in /home/moebius/Projects/HF_Data/venv/lib/python3.12/site-packages (from datasets!=2.5.0->transformers[agents]) (0.70.16)\n",
      "Requirement already satisfied: aiohttp in /home/moebius/Projects/HF_Data/venv/lib/python3.12/site-packages (from datasets!=2.5.0->transformers[agents]) (3.10.5)\n",
      "Requirement already satisfied: charset-normalizer<4,>=2 in /home/moebius/Projects/HF_Data/venv/lib/python3.12/site-packages (from requests->huggingface_hub) (3.3.2)\n",
      "Requirement already satisfied: idna<4,>=2.5 in /home/moebius/Projects/HF_Data/venv/lib/python3.12/site-packages (from requests->huggingface_hub) (3.7)\n",
      "Requirement already satisfied: urllib3<3,>=1.21.1 in /home/moebius/Projects/HF_Data/venv/lib/python3.12/site-packages (from requests->huggingface_hub) (2.2.2)\n",
      "Requirement already satisfied: certifi>=2017.4.17 in /home/moebius/Projects/HF_Data/venv/lib/python3.12/site-packages (from requests->huggingface_hub) (2024.7.4)\n",
      "Requirement already satisfied: sympy in /home/moebius/Projects/HF_Data/venv/lib/python3.12/site-packages (from torch->transformers[agents]) (1.13.2)\n",
      "Requirement already satisfied: networkx in /home/moebius/Projects/HF_Data/venv/lib/python3.12/site-packages (from torch->transformers[agents]) (3.3)\n",
      "Requirement already satisfied: jinja2 in /home/moebius/Projects/HF_Data/venv/lib/python3.12/site-packages (from torch->transformers[agents]) (3.1.4)\n",
      "Requirement already satisfied: setuptools in /home/moebius/Projects/HF_Data/venv/lib/python3.12/site-packages (from torch->transformers[agents]) (70.3.0)\n",
      "Requirement already satisfied: nvidia-cuda-nvrtc-cu12==12.1.105 in /home/moebius/Projects/HF_Data/venv/lib/python3.12/site-packages (from torch->transformers[agents]) (12.1.105)\n",
      "Requirement already satisfied: nvidia-cuda-runtime-cu12==12.1.105 in /home/moebius/Projects/HF_Data/venv/lib/python3.12/site-packages (from torch->transformers[agents]) (12.1.105)\n",
      "Requirement already satisfied: nvidia-cuda-cupti-cu12==12.1.105 in /home/moebius/Projects/HF_Data/venv/lib/python3.12/site-packages (from torch->transformers[agents]) (12.1.105)\n",
      "Requirement already satisfied: nvidia-cudnn-cu12==9.1.0.70 in /home/moebius/Projects/HF_Data/venv/lib/python3.12/site-packages (from torch->transformers[agents]) (9.1.0.70)\n",
      "Requirement already satisfied: nvidia-cublas-cu12==12.1.3.1 in /home/moebius/Projects/HF_Data/venv/lib/python3.12/site-packages (from torch->transformers[agents]) (12.1.3.1)\n",
      "Requirement already satisfied: nvidia-cufft-cu12==11.0.2.54 in /home/moebius/Projects/HF_Data/venv/lib/python3.12/site-packages (from torch->transformers[agents]) (11.0.2.54)\n",
      "Requirement already satisfied: nvidia-curand-cu12==10.3.2.106 in /home/moebius/Projects/HF_Data/venv/lib/python3.12/site-packages (from torch->transformers[agents]) (10.3.2.106)\n",
      "Requirement already satisfied: nvidia-cusolver-cu12==11.4.5.107 in /home/moebius/Projects/HF_Data/venv/lib/python3.12/site-packages (from torch->transformers[agents]) (11.4.5.107)\n",
      "Requirement already satisfied: nvidia-cusparse-cu12==12.1.0.106 in /home/moebius/Projects/HF_Data/venv/lib/python3.12/site-packages (from torch->transformers[agents]) (12.1.0.106)\n",
      "Requirement already satisfied: nvidia-nccl-cu12==2.20.5 in /home/moebius/Projects/HF_Data/venv/lib/python3.12/site-packages (from torch->transformers[agents]) (2.20.5)\n",
      "Requirement already satisfied: nvidia-nvtx-cu12==12.1.105 in /home/moebius/Projects/HF_Data/venv/lib/python3.12/site-packages (from torch->transformers[agents]) (12.1.105)\n",
      "Requirement already satisfied: triton==3.0.0 in /home/moebius/Projects/HF_Data/venv/lib/python3.12/site-packages (from torch->transformers[agents]) (3.0.0)\n",
      "Requirement already satisfied: nvidia-nvjitlink-cu12 in /home/moebius/Projects/HF_Data/venv/lib/python3.12/site-packages (from nvidia-cusolver-cu12==11.4.5.107->torch->transformers[agents]) (12.6.68)\n",
      "Requirement already satisfied: importlib-metadata in /home/moebius/Projects/HF_Data/venv/lib/python3.12/site-packages (from diffusers->transformers[agents]) (8.5.0)\n"
     ]
    },
    {
     "name": "stdout",
     "output_type": "stream",
     "text": [
      "Requirement already satisfied: aiohappyeyeballs>=2.3.0 in /home/moebius/Projects/HF_Data/venv/lib/python3.12/site-packages (from aiohttp->datasets!=2.5.0->transformers[agents]) (2.4.0)\n",
      "Requirement already satisfied: aiosignal>=1.1.2 in /home/moebius/Projects/HF_Data/venv/lib/python3.12/site-packages (from aiohttp->datasets!=2.5.0->transformers[agents]) (1.3.1)\n",
      "Requirement already satisfied: attrs>=17.3.0 in /home/moebius/Projects/HF_Data/venv/lib/python3.12/site-packages (from aiohttp->datasets!=2.5.0->transformers[agents]) (23.2.0)\n",
      "Requirement already satisfied: frozenlist>=1.1.1 in /home/moebius/Projects/HF_Data/venv/lib/python3.12/site-packages (from aiohttp->datasets!=2.5.0->transformers[agents]) (1.4.1)\n",
      "Requirement already satisfied: multidict<7.0,>=4.5 in /home/moebius/Projects/HF_Data/venv/lib/python3.12/site-packages (from aiohttp->datasets!=2.5.0->transformers[agents]) (6.1.0)\n",
      "Requirement already satisfied: yarl<2.0,>=1.0 in /home/moebius/Projects/HF_Data/venv/lib/python3.12/site-packages (from aiohttp->datasets!=2.5.0->transformers[agents]) (1.11.1)\n",
      "Requirement already satisfied: zipp>=3.20 in /home/moebius/Projects/HF_Data/venv/lib/python3.12/site-packages (from importlib-metadata->diffusers->transformers[agents]) (3.20.2)\n",
      "Requirement already satisfied: MarkupSafe>=2.0 in /home/moebius/Projects/HF_Data/venv/lib/python3.12/site-packages (from jinja2->torch->transformers[agents]) (2.1.5)\n",
      "Requirement already satisfied: python-dateutil>=2.8.2 in /home/moebius/Projects/HF_Data/venv/lib/python3.12/site-packages (from pandas->datasets!=2.5.0->transformers[agents]) (2.9.0.post0)\n",
      "Requirement already satisfied: pytz>=2020.1 in /home/moebius/Projects/HF_Data/venv/lib/python3.12/site-packages (from pandas->datasets!=2.5.0->transformers[agents]) (2024.1)\n",
      "Requirement already satisfied: tzdata>=2022.7 in /home/moebius/Projects/HF_Data/venv/lib/python3.12/site-packages (from pandas->datasets!=2.5.0->transformers[agents]) (2024.1)\n",
      "Requirement already satisfied: mpmath<1.4,>=1.1.0 in /home/moebius/Projects/HF_Data/venv/lib/python3.12/site-packages (from sympy->torch->transformers[agents]) (1.3.0)\n",
      "Requirement already satisfied: six>=1.5 in /home/moebius/Projects/HF_Data/venv/lib/python3.12/site-packages (from python-dateutil>=2.8.2->pandas->datasets!=2.5.0->transformers[agents]) (1.16.0)\n",
      "Note: you may need to restart the kernel to use updated packages.\n"
     ]
    }
   ],
   "source": [
    "#%pip install --upgrade huggingface_hub transformers[agents] duckduckgo-search"
   ]
  },
  {
   "cell_type": "markdown",
   "id": "d6ab62a9",
   "metadata": {},
   "source": [
    "### Then import the needed libraries"
   ]
  },
  {
   "cell_type": "code",
   "execution_count": 1,
   "id": "7bade59a",
   "metadata": {},
   "outputs": [],
   "source": [
    "from transformers.agents import HfApiEngine, ReactJsonAgent"
   ]
  },
  {
   "cell_type": "code",
   "execution_count": 2,
   "id": "90ca738b",
   "metadata": {},
   "outputs": [],
   "source": [
    "from huggingface_hub import login, InferenceClient "
   ]
  },
  {
   "cell_type": "code",
   "execution_count": 3,
   "id": "26244ef6",
   "metadata": {},
   "outputs": [],
   "source": [
    "import torch, json, os, re"
   ]
  },
  {
   "cell_type": "markdown",
   "id": "7adbfdeb",
   "metadata": {},
   "source": [
    "### Login to Huggingface to use their architecture"
   ]
  },
  {
   "cell_type": "code",
   "execution_count": 4,
   "id": "c517000d",
   "metadata": {},
   "outputs": [
    {
     "name": "stdout",
     "output_type": "stream",
     "text": [
      "Token is valid (permission: read).\n",
      "Your token has been saved in your configured git credential helpers (stor).\n",
      "Your token has been saved to /home/moebius/.cache/huggingface/token\n",
      "Login successful\n"
     ]
    }
   ],
   "source": [
    "hf_token = \"<YOURTOKEN>\"\n",
    "login(hf_token,add_to_git_credential=True) "
   ]
  },
  {
   "cell_type": "markdown",
   "id": "9fd0d48b",
   "metadata": {},
   "source": [
    "### Now define the repositity you want to use"
   ]
  },
  {
   "cell_type": "code",
   "execution_count": 50,
   "id": "6b91ac04",
   "metadata": {},
   "outputs": [],
   "source": [
    "repo_id = \"Qwen/Qwen2.5-72B-Instruct\""
   ]
  },
  {
   "cell_type": "markdown",
   "id": "edd961da",
   "metadata": {},
   "source": [
    "## Select the right remote engine "
   ]
  },
  {
   "cell_type": "code",
   "execution_count": 51,
   "id": "b3ee4b86",
   "metadata": {},
   "outputs": [],
   "source": [
    "llm_engine = HfApiEngine(model=repo_id)  "
   ]
  },
  {
   "cell_type": "markdown",
   "id": "7a9ffb43",
   "metadata": {},
   "source": [
    "## And setup the agent"
   ]
  },
  {
   "cell_type": "markdown",
   "id": "612ae8e1",
   "metadata": {},
   "source": [
    "#####    How can I build an agent?\n",
    "\n",
    "To initialize an agent, you need these arguments:\n",
    "\n",
    "   1. an LLM to power your agent (Mistral in this case)- the agent is not exactly the LLM, it’s more like the agent is a program that uses an LLM as its engine.\n",
    "   2. a system prompt: what the LLM engine will be prompted with to generate its output\n",
    "   3.  a toolbox from which the agent pick tools to execute\n",
    "   4.  a parser to extract from the LLM output which tools are to call and with which arguments"
   ]
  },
  {
   "cell_type": "code",
   "execution_count": 56,
   "id": "5e32ef3b",
   "metadata": {},
   "outputs": [],
   "source": [
    "#sp=\"\"\"Explain your reasoning step by step\"\"\"\n",
    "#system_prompt=sp"
   ]
  },
  {
   "cell_type": "code",
   "execution_count": 57,
   "id": "6c5847cb",
   "metadata": {},
   "outputs": [],
   "source": [
    "custom_tools=[]"
   ]
  },
  {
   "cell_type": "code",
   "execution_count": 58,
   "id": "2d1b1c3d",
   "metadata": {},
   "outputs": [],
   "source": [
    "agent = ReactJsonAgent(tools=custom_tools, llm_engine=llm_engine,add_base_tools = True)"
   ]
  },
  {
   "cell_type": "code",
   "execution_count": 62,
   "id": "e5e111f7",
   "metadata": {},
   "outputs": [
    {
     "name": "stderr",
     "output_type": "stream",
     "text": [
      "\u001b[32;20;1m======== New task ========\u001b[0m\n",
      "\u001b[37;1mWhat's the 10th Fibonacci number?\u001b[0m\n",
      "\u001b[33;1m=== Agent thoughts:\u001b[0m\n",
      "\u001b[0mThought: I can calculate the Fibonacci number using a known formula or by simply calculating it step by step. No need to use any of the tools provided for this task. I will provide the final answer directly.\u001b[0m\n",
      "\u001b[33;1m>>> Calling tool: 'final_answer' with arguments: {'answer': '55'}\u001b[0m\n"
     ]
    },
    {
     "data": {
      "text/plain": [
       "'55'"
      ]
     },
     "execution_count": 62,
     "metadata": {},
     "output_type": "execute_result"
    }
   ],
   "source": [
    "agent.run(\"What's the 10th Fibonacci number?\")"
   ]
  },
  {
   "cell_type": "code",
   "execution_count": null,
   "id": "646c5225",
   "metadata": {},
   "outputs": [],
   "source": []
  },
  {
   "cell_type": "code",
   "execution_count": null,
   "id": "954b2c0b",
   "metadata": {},
   "outputs": [],
   "source": [
    "\n"
   ]
  },
  {
   "cell_type": "code",
   "execution_count": null,
   "id": "e654f009",
   "metadata": {},
   "outputs": [],
   "source": []
  }
 ],
 "metadata": {
  "kernelspec": {
   "display_name": "venv",
   "language": "python",
   "name": "venv"
  },
  "language_info": {
   "codemirror_mode": {
    "name": "ipython",
    "version": 3
   },
   "file_extension": ".py",
   "mimetype": "text/x-python",
   "name": "python",
   "nbconvert_exporter": "python",
   "pygments_lexer": "ipython3",
   "version": "3.12.3"
  }
 },
 "nbformat": 4,
 "nbformat_minor": 5
}
