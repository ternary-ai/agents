{
 "cells": [
  {
   "cell_type": "markdown",
   "id": "70f0e857",
   "metadata": {},
   "source": [
    "## Langchain-based Youtube Search Agent"
   ]
  },
  {
   "cell_type": "markdown",
   "id": "89470263",
   "metadata": {},
   "source": [
    "The goal of this agent is to search Youtube and find relevant videos given a keyword.\n",
    "Is this a true agent? Well,the program is capable to discern tool use. Besides that \n",
    "The \"agent\" does not reason, plan, and/or critizise its actions.\n",
    "Therefore, it does what it's supposed to do, but there is no autonomy or agency.\n",
    "Hence, it is an agent as it is commonly used in 2024, but it is not an agent in the sense of E21A"
   ]
  },
  {
   "cell_type": "code",
   "execution_count": 6,
   "id": "381bd979",
   "metadata": {},
   "outputs": [
    {
     "name": "stdout",
     "output_type": "stream",
     "text": [
      "Requirement already satisfied: torch in /home/moebius/Projects/HF_Data/venv/lib/python3.12/site-packages (2.4.1)\n",
      "Requirement already satisfied: openai in /home/moebius/Projects/HF_Data/venv/lib/python3.12/site-packages (1.50.2)\n",
      "Requirement already satisfied: langchain in /home/moebius/Projects/HF_Data/venv/lib/python3.12/site-packages (0.3.1)\n",
      "Requirement already satisfied: langchain_core in /home/moebius/Projects/HF_Data/venv/lib/python3.12/site-packages (0.3.6)\n",
      "Requirement already satisfied: langchain_openai in /home/moebius/Projects/HF_Data/venv/lib/python3.12/site-packages (0.2.1)\n",
      "Requirement already satisfied: langchain_community in /home/moebius/Projects/HF_Data/venv/lib/python3.12/site-packages (0.3.1)\n",
      "Requirement already satisfied: langgraph in /home/moebius/Projects/HF_Data/venv/lib/python3.12/site-packages (0.2.28)\n",
      "Collecting youtube_search\n",
      "  Downloading youtube_search-2.1.2-py3-none-any.whl.metadata (1.2 kB)\n",
      "Requirement already satisfied: filelock in /home/moebius/Projects/HF_Data/venv/lib/python3.12/site-packages (from torch) (3.16.1)\n",
      "Requirement already satisfied: typing-extensions>=4.8.0 in /home/moebius/Projects/HF_Data/venv/lib/python3.12/site-packages (from torch) (4.12.2)\n",
      "Requirement already satisfied: sympy in /home/moebius/Projects/HF_Data/venv/lib/python3.12/site-packages (from torch) (1.13.2)\n",
      "Requirement already satisfied: networkx in /home/moebius/Projects/HF_Data/venv/lib/python3.12/site-packages (from torch) (3.3)\n",
      "Requirement already satisfied: jinja2 in /home/moebius/Projects/HF_Data/venv/lib/python3.12/site-packages (from torch) (3.1.4)\n",
      "Requirement already satisfied: fsspec in /home/moebius/Projects/HF_Data/venv/lib/python3.12/site-packages (from torch) (2024.6.1)\n",
      "Requirement already satisfied: setuptools in /home/moebius/Projects/HF_Data/venv/lib/python3.12/site-packages (from torch) (70.3.0)\n",
      "Requirement already satisfied: nvidia-cuda-nvrtc-cu12==12.1.105 in /home/moebius/Projects/HF_Data/venv/lib/python3.12/site-packages (from torch) (12.1.105)\n",
      "Requirement already satisfied: nvidia-cuda-runtime-cu12==12.1.105 in /home/moebius/Projects/HF_Data/venv/lib/python3.12/site-packages (from torch) (12.1.105)\n",
      "Requirement already satisfied: nvidia-cuda-cupti-cu12==12.1.105 in /home/moebius/Projects/HF_Data/venv/lib/python3.12/site-packages (from torch) (12.1.105)\n",
      "Requirement already satisfied: nvidia-cudnn-cu12==9.1.0.70 in /home/moebius/Projects/HF_Data/venv/lib/python3.12/site-packages (from torch) (9.1.0.70)\n",
      "Requirement already satisfied: nvidia-cublas-cu12==12.1.3.1 in /home/moebius/Projects/HF_Data/venv/lib/python3.12/site-packages (from torch) (12.1.3.1)\n",
      "Requirement already satisfied: nvidia-cufft-cu12==11.0.2.54 in /home/moebius/Projects/HF_Data/venv/lib/python3.12/site-packages (from torch) (11.0.2.54)\n",
      "Requirement already satisfied: nvidia-curand-cu12==10.3.2.106 in /home/moebius/Projects/HF_Data/venv/lib/python3.12/site-packages (from torch) (10.3.2.106)\n",
      "Requirement already satisfied: nvidia-cusolver-cu12==11.4.5.107 in /home/moebius/Projects/HF_Data/venv/lib/python3.12/site-packages (from torch) (11.4.5.107)\n",
      "Requirement already satisfied: nvidia-cusparse-cu12==12.1.0.106 in /home/moebius/Projects/HF_Data/venv/lib/python3.12/site-packages (from torch) (12.1.0.106)\n",
      "Requirement already satisfied: nvidia-nccl-cu12==2.20.5 in /home/moebius/Projects/HF_Data/venv/lib/python3.12/site-packages (from torch) (2.20.5)\n",
      "Requirement already satisfied: nvidia-nvtx-cu12==12.1.105 in /home/moebius/Projects/HF_Data/venv/lib/python3.12/site-packages (from torch) (12.1.105)\n",
      "Requirement already satisfied: triton==3.0.0 in /home/moebius/Projects/HF_Data/venv/lib/python3.12/site-packages (from torch) (3.0.0)\n",
      "Requirement already satisfied: nvidia-nvjitlink-cu12 in /home/moebius/Projects/HF_Data/venv/lib/python3.12/site-packages (from nvidia-cusolver-cu12==11.4.5.107->torch) (12.6.68)\n",
      "Requirement already satisfied: anyio<5,>=3.5.0 in /home/moebius/Projects/HF_Data/venv/lib/python3.12/site-packages (from openai) (4.4.0)\n",
      "Requirement already satisfied: distro<2,>=1.7.0 in /home/moebius/Projects/HF_Data/venv/lib/python3.12/site-packages (from openai) (1.9.0)\n",
      "Requirement already satisfied: httpx<1,>=0.23.0 in /home/moebius/Projects/HF_Data/venv/lib/python3.12/site-packages (from openai) (0.27.0)\n",
      "Requirement already satisfied: jiter<1,>=0.4.0 in /home/moebius/Projects/HF_Data/venv/lib/python3.12/site-packages (from openai) (0.5.0)\n",
      "Requirement already satisfied: pydantic<3,>=1.9.0 in /home/moebius/Projects/HF_Data/venv/lib/python3.12/site-packages (from openai) (2.9.2)\n",
      "Requirement already satisfied: sniffio in /home/moebius/Projects/HF_Data/venv/lib/python3.12/site-packages (from openai) (1.3.1)\n",
      "Requirement already satisfied: tqdm>4 in /home/moebius/Projects/HF_Data/venv/lib/python3.12/site-packages (from openai) (4.66.5)\n",
      "Requirement already satisfied: PyYAML>=5.3 in /home/moebius/Projects/HF_Data/venv/lib/python3.12/site-packages (from langchain) (6.0.1)\n",
      "Requirement already satisfied: SQLAlchemy<3,>=1.4 in /home/moebius/Projects/HF_Data/venv/lib/python3.12/site-packages (from langchain) (2.0.34)\n",
      "Requirement already satisfied: aiohttp<4.0.0,>=3.8.3 in /home/moebius/Projects/HF_Data/venv/lib/python3.12/site-packages (from langchain) (3.10.5)\n",
      "Requirement already satisfied: langchain-text-splitters<0.4.0,>=0.3.0 in /home/moebius/Projects/HF_Data/venv/lib/python3.12/site-packages (from langchain) (0.3.0)\n",
      "Requirement already satisfied: langsmith<0.2.0,>=0.1.17 in /home/moebius/Projects/HF_Data/venv/lib/python3.12/site-packages (from langchain) (0.1.129)\n",
      "Requirement already satisfied: numpy<2.0.0,>=1.26.0 in /home/moebius/Projects/HF_Data/venv/lib/python3.12/site-packages (from langchain) (1.26.4)\n",
      "Requirement already satisfied: requests<3,>=2 in /home/moebius/Projects/HF_Data/venv/lib/python3.12/site-packages (from langchain) (2.32.3)\n",
      "Requirement already satisfied: tenacity!=8.4.0,<9.0.0,>=8.1.0 in /home/moebius/Projects/HF_Data/venv/lib/python3.12/site-packages (from langchain) (8.5.0)\n",
      "Requirement already satisfied: jsonpatch<2.0,>=1.33 in /home/moebius/Projects/HF_Data/venv/lib/python3.12/site-packages (from langchain_core) (1.33)\n",
      "Requirement already satisfied: packaging<25,>=23.2 in /home/moebius/Projects/HF_Data/venv/lib/python3.12/site-packages (from langchain_core) (24.1)\n",
      "Requirement already satisfied: tiktoken<1,>=0.7 in /home/moebius/Projects/HF_Data/venv/lib/python3.12/site-packages (from langchain_openai) (0.7.0)\n",
      "Requirement already satisfied: dataclasses-json<0.7,>=0.5.7 in /home/moebius/Projects/HF_Data/venv/lib/python3.12/site-packages (from langchain_community) (0.6.7)\n",
      "Requirement already satisfied: pydantic-settings<3.0.0,>=2.4.0 in /home/moebius/Projects/HF_Data/venv/lib/python3.12/site-packages (from langchain_community) (2.5.2)\n",
      "Requirement already satisfied: langgraph-checkpoint<2.0.0,>=1.0.2 in /home/moebius/Projects/HF_Data/venv/lib/python3.12/site-packages (from langgraph) (1.0.12)\n",
      "Requirement already satisfied: aiohappyeyeballs>=2.3.0 in /home/moebius/Projects/HF_Data/venv/lib/python3.12/site-packages (from aiohttp<4.0.0,>=3.8.3->langchain) (2.4.0)\n",
      "Requirement already satisfied: aiosignal>=1.1.2 in /home/moebius/Projects/HF_Data/venv/lib/python3.12/site-packages (from aiohttp<4.0.0,>=3.8.3->langchain) (1.3.1)\n",
      "Requirement already satisfied: attrs>=17.3.0 in /home/moebius/Projects/HF_Data/venv/lib/python3.12/site-packages (from aiohttp<4.0.0,>=3.8.3->langchain) (23.2.0)\n",
      "Requirement already satisfied: frozenlist>=1.1.1 in /home/moebius/Projects/HF_Data/venv/lib/python3.12/site-packages (from aiohttp<4.0.0,>=3.8.3->langchain) (1.4.1)\n",
      "Requirement already satisfied: multidict<7.0,>=4.5 in /home/moebius/Projects/HF_Data/venv/lib/python3.12/site-packages (from aiohttp<4.0.0,>=3.8.3->langchain) (6.1.0)\n",
      "Requirement already satisfied: yarl<2.0,>=1.0 in /home/moebius/Projects/HF_Data/venv/lib/python3.12/site-packages (from aiohttp<4.0.0,>=3.8.3->langchain) (1.11.1)\n",
      "Requirement already satisfied: idna>=2.8 in /home/moebius/Projects/HF_Data/venv/lib/python3.12/site-packages (from anyio<5,>=3.5.0->openai) (3.7)\n",
      "Requirement already satisfied: marshmallow<4.0.0,>=3.18.0 in /home/moebius/Projects/HF_Data/venv/lib/python3.12/site-packages (from dataclasses-json<0.7,>=0.5.7->langchain_community) (3.22.0)\n",
      "Requirement already satisfied: typing-inspect<1,>=0.4.0 in /home/moebius/Projects/HF_Data/venv/lib/python3.12/site-packages (from dataclasses-json<0.7,>=0.5.7->langchain_community) (0.9.0)\n",
      "Requirement already satisfied: certifi in /home/moebius/Projects/HF_Data/venv/lib/python3.12/site-packages (from httpx<1,>=0.23.0->openai) (2024.7.4)\n",
      "Requirement already satisfied: httpcore==1.* in /home/moebius/Projects/HF_Data/venv/lib/python3.12/site-packages (from httpx<1,>=0.23.0->openai) (1.0.5)\n",
      "Requirement already satisfied: h11<0.15,>=0.13 in /home/moebius/Projects/HF_Data/venv/lib/python3.12/site-packages (from httpcore==1.*->httpx<1,>=0.23.0->openai) (0.14.0)\n",
      "Requirement already satisfied: jsonpointer>=1.9 in /home/moebius/Projects/HF_Data/venv/lib/python3.12/site-packages (from jsonpatch<2.0,>=1.33->langchain_core) (3.0.0)\n",
      "Requirement already satisfied: msgpack<2.0.0,>=1.1.0 in /home/moebius/Projects/HF_Data/venv/lib/python3.12/site-packages (from langgraph-checkpoint<2.0.0,>=1.0.2->langgraph) (1.1.0)\n"
     ]
    },
    {
     "name": "stdout",
     "output_type": "stream",
     "text": [
      "Requirement already satisfied: orjson<4.0.0,>=3.9.14 in /home/moebius/Projects/HF_Data/venv/lib/python3.12/site-packages (from langsmith<0.2.0,>=0.1.17->langchain) (3.10.7)\n",
      "Requirement already satisfied: annotated-types>=0.6.0 in /home/moebius/Projects/HF_Data/venv/lib/python3.12/site-packages (from pydantic<3,>=1.9.0->openai) (0.7.0)\n",
      "Requirement already satisfied: pydantic-core==2.23.4 in /home/moebius/Projects/HF_Data/venv/lib/python3.12/site-packages (from pydantic<3,>=1.9.0->openai) (2.23.4)\n",
      "Requirement already satisfied: python-dotenv>=0.21.0 in /home/moebius/Projects/HF_Data/venv/lib/python3.12/site-packages (from pydantic-settings<3.0.0,>=2.4.0->langchain_community) (1.0.1)\n",
      "Requirement already satisfied: charset-normalizer<4,>=2 in /home/moebius/Projects/HF_Data/venv/lib/python3.12/site-packages (from requests<3,>=2->langchain) (3.3.2)\n",
      "Requirement already satisfied: urllib3<3,>=1.21.1 in /home/moebius/Projects/HF_Data/venv/lib/python3.12/site-packages (from requests<3,>=2->langchain) (2.2.2)\n",
      "Requirement already satisfied: greenlet!=0.4.17 in /home/moebius/Projects/HF_Data/venv/lib/python3.12/site-packages (from SQLAlchemy<3,>=1.4->langchain) (3.1.0)\n",
      "Requirement already satisfied: regex>=2022.1.18 in /home/moebius/Projects/HF_Data/venv/lib/python3.12/site-packages (from tiktoken<1,>=0.7->langchain_openai) (2024.9.11)\n",
      "Requirement already satisfied: MarkupSafe>=2.0 in /home/moebius/Projects/HF_Data/venv/lib/python3.12/site-packages (from jinja2->torch) (2.1.5)\n",
      "Requirement already satisfied: mpmath<1.4,>=1.1.0 in /home/moebius/Projects/HF_Data/venv/lib/python3.12/site-packages (from sympy->torch) (1.3.0)\n",
      "Requirement already satisfied: mypy-extensions>=0.3.0 in /home/moebius/Projects/HF_Data/venv/lib/python3.12/site-packages (from typing-inspect<1,>=0.4.0->dataclasses-json<0.7,>=0.5.7->langchain_community) (1.0.0)\n",
      "Downloading youtube_search-2.1.2-py3-none-any.whl (3.4 kB)\n",
      "Installing collected packages: youtube_search\n",
      "Successfully installed youtube_search-2.1.2\n",
      "Note: you may need to restart the kernel to use updated packages.\n"
     ]
    }
   ],
   "source": [
    "#%pip install --upgrade torch openai langchain langchain_core langchain_openai langchain_community langgraph youtube_search"
   ]
  },
  {
   "cell_type": "code",
   "execution_count": 1,
   "id": "0d63cb1f",
   "metadata": {},
   "outputs": [],
   "source": [
    "import torch"
   ]
  },
  {
   "cell_type": "code",
   "execution_count": 3,
   "id": "a8fec960",
   "metadata": {},
   "outputs": [],
   "source": [
    "import os, openai\n",
    "\n",
    "from langchain import hub\n",
    "from langchain.agents import create_openai_functions_agent\n",
    "from langchain_openai.chat_models import ChatOpenAI\n",
    "\n",
    "from langchain_core.runnables import RunnablePassthrough\n",
    "from langchain_core.agents import AgentFinish\n",
    "\n",
    "from langchain_community.tools import YouTubeSearchTool\n",
    "\n",
    "from langgraph.graph import END, Graph\n"
   ]
  },
  {
   "cell_type": "markdown",
   "id": "867c92cb",
   "metadata": {},
   "source": [
    "## This agent uses OpenAI's model to work"
   ]
  },
  {
   "cell_type": "markdown",
   "id": "b764a760",
   "metadata": {},
   "source": [
    "Hence you need a funded OpenAI account for this to work."
   ]
  },
  {
   "cell_type": "code",
   "execution_count": null,
   "id": "b25fa22c",
   "metadata": {},
   "outputs": [],
   "source": [
    "openai_api_key=\"<YOUR OPENAI KEY>\""
   ]
  },
  {
   "cell_type": "markdown",
   "id": "39740d64",
   "metadata": {},
   "source": [
    "Initialize the agent based on default langchain criteria"
   ]
  },
  {
   "cell_type": "code",
   "execution_count": 7,
   "id": "ab4ac5e5",
   "metadata": {
    "code_folding": []
   },
   "outputs": [],
   "source": [
    "def initialize(openai_api_key):\n",
    "\n",
    "    if not openai_api_key:\n",
    "        print(\"Can't initialize. OpenAI key is missing\")\n",
    "        return\n",
    "\n",
    "    #openai.api_key=key\n",
    "    os.environ[\"OPENAI_API_KEY\"]=openai_api_key\n",
    "   \n",
    "    # Get the prompt to use (default\n",
    "    prompt = hub.pull(\"hwchase17/openai-functions-agent\")\n",
    "\n",
    "    # Choose the LLM that will drive the agent\n",
    "    llm = ChatOpenAI(model=\"gpt-4\", openai_api_key=openai_api_key, temperature=0.2)\n",
    "\n",
    "    tools = [YouTubeSearchTool()]\n",
    "\n",
    "    agent_runnable = create_openai_functions_agent(llm, tools, prompt)\n",
    "\n",
    "    # Define the agent\n",
    "    agent = RunnablePassthrough.assign(\n",
    "        agent_outcome = agent_runnable\n",
    "    )\n",
    "\n",
    "    # Define the function to execute tools\n",
    "    def execute_tools(data):\n",
    "        agent_action = data.pop('agent_outcome')\n",
    "        tool_to_use = {t.name: t for t in tools}[agent_action.tool]\n",
    "        observation = tool_to_use.invoke(agent_action.tool_input)\n",
    "        data['intermediate_steps'].append((agent_action, observation))\n",
    "        print(data)\n",
    "        return data\n",
    "\n",
    "    # Define logic that will be used to determine which conditional edge to go down\n",
    "    def should_continue(data):\n",
    "        if isinstance(data['agent_outcome'], AgentFinish):\n",
    "            return \"exit\"\n",
    "        else:\n",
    "            return \"continue\"\n",
    "        \n",
    "    workflow = Graph()\n",
    "\n",
    "    workflow.add_node(\"agent\", agent)\n",
    "    workflow.add_node(\"tools\", execute_tools)\n",
    "\n",
    "    # Set the entrypoint as `agent`\n",
    "    workflow.set_entry_point(\"agent\")\n",
    "\n",
    "    workflow.add_conditional_edges(\n",
    "        \"agent\",\n",
    "        should_continue,\n",
    "        {\n",
    "            \"continue\": \"tools\",\n",
    "            \"exit\": END\n",
    "        }\n",
    "    )\n",
    "    workflow.add_edge('tools', 'agent')\n",
    "\n",
    "    # This compiles it into a LangChain Runnable,\n",
    "    # meaning we can use it as you would any other runnable\n",
    "    chain = workflow.compile()\n",
    "\n",
    "    return chain"
   ]
  },
  {
   "cell_type": "markdown",
   "id": "0ebf2db1",
   "metadata": {},
   "source": [
    "The below segment looks a bit messy. And probably all the \"message appends\" are not really necessary. "
   ]
  },
  {
   "cell_type": "code",
   "execution_count": 8,
   "id": "df3c7ce3",
   "metadata": {},
   "outputs": [
    {
     "name": "stderr",
     "output_type": "stream",
     "text": [
      "/home/moebius/Projects/HF_Data/venv/lib/python3.12/site-packages/langsmith/client.py:323: LangSmithMissingAPIKeyWarning: API key must be provided when using hosted LangSmith API\n",
      "  warnings.warn(\n"
     ]
    },
    {
     "name": "stdout",
     "output_type": "stream",
     "text": [
      "{'input': 'Search for videos containing cute puppies', 'intermediate_steps': [(AgentActionMessageLog(tool='youtube_search', tool_input={'query': 'cute puppies', 'run_manager': <langchain_core.callbacks.manager.CallbackManagerForToolRun object at 0x7a5f2402c8f0>}, log=\"\\nInvoking: `youtube_search` with `{'query': 'cute puppies'}`\\n\\n\\n\", message_log=[AIMessage(content='', additional_kwargs={'function_call': {'arguments': '{\\n  \"query\": \"cute puppies\"\\n}', 'name': 'youtube_search'}, 'refusal': None}, response_metadata={'token_usage': {'completion_tokens': 17, 'prompt_tokens': 104, 'total_tokens': 121, 'completion_tokens_details': {'reasoning_tokens': 0}}, 'model_name': 'gpt-4-0613', 'system_fingerprint': None, 'finish_reason': 'function_call', 'logprobs': None}, id='run-0783a4c3-fca5-49b5-b70f-9c782e26070a-0', usage_metadata={'input_tokens': 104, 'output_tokens': 17, 'total_tokens': 121})]), \"['https://www.youtube.com/watch?v=VAH-ixdFWFs&pp=ygUMY3V0ZSBwdXBwaWVz', 'https://www.youtube.com/watch?v=pxn0wL_uSm4&pp=ygUMY3V0ZSBwdXBwaWVz']\")]}\n",
      "Here are some videos of cute puppies:\n",
      "\n",
      "1. [Video 1](https://www.youtube.com/watch?v=VAH-ixdFWFs&pp=ygUMY3V0ZSBwdXBwaWVz)\n",
      "2. [Video 2](https://www.youtube.com/watch?v=pxn0wL_uSm4&pp=ygUMY3V0ZSBwdXBwaWVz)\n"
     ]
    }
   ],
   "source": [
    "messages= [{\"role\": \"assistant\", \"content\": \"How can I help you?\"}]\n",
    "\n",
    "chain = initialize(openai_api_key)\n",
    "\n",
    "prompt = \"Search for videos containing cute puppies\"\n",
    "\n",
    "messages.append({\"role\": \"user\", \"content\": prompt})\n",
    "\n",
    "result = chain.invoke({\"input\": prompt, \"intermediate_steps\": []})\n",
    "    \n",
    "msg = result['agent_outcome'].return_values[\"output\"]\n",
    "\n",
    "print(msg)\n",
    "\n",
    "messages.append({\"role\": \"assistant\", \"content\": msg})\n"
   ]
  },
  {
   "cell_type": "code",
   "execution_count": null,
   "id": "80f2e34d",
   "metadata": {},
   "outputs": [],
   "source": []
  }
 ],
 "metadata": {
  "kernelspec": {
   "display_name": "venv",
   "language": "python",
   "name": "venv"
  },
  "language_info": {
   "codemirror_mode": {
    "name": "ipython",
    "version": 3
   },
   "file_extension": ".py",
   "mimetype": "text/x-python",
   "name": "python",
   "nbconvert_exporter": "python",
   "pygments_lexer": "ipython3",
   "version": "3.12.3"
  }
 },
 "nbformat": 4,
 "nbformat_minor": 5
}
