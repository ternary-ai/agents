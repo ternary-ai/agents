{
 "cells": [
  {
   "cell_type": "markdown",
   "id": "c0806677",
   "metadata": {},
   "source": [
    "## A Financial Research Agent in 6 easy steps"
   ]
  },
  {
   "cell_type": "markdown",
   "id": "a0108ef5",
   "metadata": {},
   "source": [
    "The overwhelming volume and complexity of financial data that limits timely, informed decision-making. \n",
    "Cognitive AI agents democratize access to insight by processing vast amounts of financial documents, earnings calls, filings, and macroeconomic data in real time. These are capabilities previously reserved for large AI -augmented analyst teams. Agents drastically reduce research cycle times by automating literature sourcing and reviews, hypothesis generation, and backtesting, enabling professionals and individuals alike to move faster. Unlike human analysts, AI agents are data-driven and free from cognitive biases like overconfidence or recency effects, offering more consistent decision support. They also help uncover alpha by analyzing niche datasets such as ESG reports or social media sentiment, and bridge global information gaps through multilingual capabilities. In essence, financial AI agents turn a deluge of unstructured information into actionable, accessible intelligence—making financial research more efficient, inclusive, and scalable"
   ]
  },
  {
   "cell_type": "markdown",
   "id": "a133ba41",
   "metadata": {},
   "source": [
    "#### Step 1: Since this cookbook will be using OpenAI's Agent SDK. Ensure that the SDK is installed."
   ]
  },
  {
   "cell_type": "code",
   "execution_count": null,
   "id": "7daec2ae",
   "metadata": {
    "scrolled": true
   },
   "outputs": [],
   "source": [
    "#%pip install --upgrade openai-agents asyncio pydantic"
   ]
  },
  {
   "cell_type": "markdown",
   "id": "52533971",
   "metadata": {},
   "source": [
    "**Step 1:** Since this cookbook will be using OpenAI's Agent SDK. Ensure that the SDK is installed and all relevant libraries installed"
   ]
  },
  {
   "cell_type": "code",
   "execution_count": 2,
   "id": "b8cd5d88",
   "metadata": {},
   "outputs": [],
   "source": [
    "import asyncio\n",
    "import os"
   ]
  },
  {
   "cell_type": "code",
   "execution_count": 3,
   "id": "de70be84",
   "metadata": {},
   "outputs": [],
   "source": [
    "from pydantic import BaseModel\n",
    "from agents import Agent"
   ]
  },
  {
   "cell_type": "code",
   "execution_count": 4,
   "id": "bbb82df3",
   "metadata": {},
   "outputs": [],
   "source": [
    "from __future__ import annotations\n",
    "\n",
    "import asyncio\n",
    "import time\n",
    "from collections.abc import Sequence\n",
    "\n",
    "from rich.console import Console\n",
    "\n",
    "from agents import Runner, RunResult, custom_span, gen_trace_id, trace\n",
    "from agents import Agent, WebSearchTool\n",
    "from agents.model_settings import ModelSettings\n"
   ]
  },
  {
   "cell_type": "markdown",
   "id": "d675fc30",
   "metadata": {},
   "source": [
    "**Step 2:** Configure your OpenAI key. Of course the prerequisite is that you have an account."
   ]
  },
  {
   "cell_type": "code",
   "execution_count": 1,
   "id": "0b2f6a93",
   "metadata": {},
   "outputs": [],
   "source": [
    "openai_key=\"<YOUR KEY>\"\n",
    "os.environ[\"OPENAI_API_KEY\"] = openai_key"
   ]
  },
  {
   "cell_type": "markdown",
   "id": "7e4df168",
   "metadata": {},
   "source": [
    "**Step 3:** Define the different agents."
   ]
  },
  {
   "attachments": {
    "95c15510-19d5-49af-b952-fe9943d480ff_1197x257_.jpg": {
     "image/jpeg": "[encoded data removed]"
    }
   },
   "cell_type": "markdown",
   "id": "8267ff49",
   "metadata": {},
   "source": [
    "![95c15510-19d5-49af-b952-fe9943d480ff_1197x257_.jpg](attachment:95c15510-19d5-49af-b952-fe9943d480ff_1197x257_.jpg)"
   ]
  },
  {
   "cell_type": "markdown",
   "id": "a769da6e",
   "metadata": {},
   "source": [
    "**Planner Agent**: Breaks down the user's query into a structured search plan to guide the research process.\n",
    "\n",
    "**Search Agent**: Executes the plan by performing web searches and gathering relevant financial data.\n",
    "\n",
    "**Financial & Risk Agents (as Tools)**: Analyze key financial metrics and assess potential red flags based on the search results.\n",
    "\n",
    "**Writer Agent**: Synthesizes all findings into a coherent, structured financial report.\n",
    "\n",
    "**Verifier Agent**: Reviews the final report for factual consistency and accuracy before presenting it to the user."
   ]
  },
  {
   "cell_type": "markdown",
   "id": "fe9d75a5",
   "metadata": {},
   "source": [
    "  "
   ]
  },
  {
   "cell_type": "markdown",
   "id": "c119aa93",
   "metadata": {},
   "source": [
    "**Step 4:** Implement the agents."
   ]
  },
  {
   "cell_type": "markdown",
   "id": "9eaea565",
   "metadata": {},
   "source": [
    "##### Financials Agent"
   ]
  },
  {
   "cell_type": "code",
   "execution_count": 5,
   "id": "2dbeeb7c",
   "metadata": {
    "code_folding": [
     0,
     1
    ]
   },
   "outputs": [],
   "source": [
    "# A sub‑agent focused on analyzing a company's fundamentals.\n",
    "FINANCIALS_PROMPT = (\n",
    "    \"You are a financial analyst focused on company fundamentals such as revenue, \"\n",
    "    \"profit, margins and growth trajectory. Given a collection of web (and optional file) \"\n",
    "    \"search results about a company, write a concise analysis of its recent financial \"\n",
    "    \"performance. Pull out key metrics or quotes. Keep it under 2 paragraphs.\"\n",
    ")\n",
    "\n",
    "\n",
    "class AnalysisSummary(BaseModel):\n",
    "    summary: str\n",
    "    \"\"\"Short text summary for this aspect of the analysis.\"\"\"\n",
    "\n",
    "\n",
    "financials_agent = Agent(\n",
    "    name=\"FundamentalsAnalystAgent\",\n",
    "    instructions=FINANCIALS_PROMPT,\n",
    "    output_type=AnalysisSummary,\n",
    ")\n"
   ]
  },
  {
   "cell_type": "markdown",
   "id": "3af33cc4",
   "metadata": {},
   "source": [
    "##### Planner Agent"
   ]
  },
  {
   "cell_type": "code",
   "execution_count": 6,
   "id": "ef50cd00",
   "metadata": {
    "code_folding": [
     0,
     7,
     14,
     18
    ]
   },
   "outputs": [],
   "source": [
    "PROMPT = (\n",
    "    \"You are a financial research planner. Given a request for financial analysis, \"\n",
    "    \"produce a set of web searches to gather the context needed. Aim for recent \"\n",
    "    \"headlines, earnings calls or 10‑K snippets, analyst commentary, and industry background. \"\n",
    "    \"Output between 5 and 15 search terms to query for.\"\n",
    ")\n",
    "\n",
    "class FinancialSearchItem(BaseModel):\n",
    "    reason: str\n",
    "    \"\"\"Your reasoning for why this search is relevant.\"\"\"\n",
    "\n",
    "    query: str\n",
    "    \"\"\"The search term to feed into a web (or file) search.\"\"\"\n",
    "\n",
    "class FinancialSearchPlan(BaseModel):\n",
    "    searches: list[FinancialSearchItem]\n",
    "    \"\"\"A list of searches to perform.\"\"\"\n",
    "\n",
    "planner_agent = Agent(\n",
    "    name=\"FinancialPlannerAgent\",\n",
    "    instructions=PROMPT,\n",
    "    model=\"o3-mini\",\n",
    "    output_type=FinancialSearchPlan,\n",
    ")\n"
   ]
  },
  {
   "cell_type": "markdown",
   "id": "b27aff9a",
   "metadata": {},
   "source": [
    "##### Risk Management Agent"
   ]
  },
  {
   "cell_type": "code",
   "execution_count": 7,
   "id": "b262658f",
   "metadata": {
    "code_folding": [
     8
    ]
   },
   "outputs": [],
   "source": [
    "# A sub‑agent specializing in identifying risk factors or concerns.\n",
    "RISK_PROMPT = (\n",
    "    \"You are a risk analyst looking for potential red flags in a company's outlook. \"\n",
    "    \"Given background research, produce a short analysis of risks such as competitive threats, \"\n",
    "    \"regulatory issues, supply chain problems, or slowing growth. Keep it under 2 paragraphs.\"\n",
    ")\n",
    "\n",
    "\n",
    "class AnalysisSummary(BaseModel):\n",
    "    summary: str\n",
    "    \"\"\"Short text summary for this aspect of the analysis.\"\"\"\n",
    "\n",
    "\n",
    "risk_agent = Agent(\n",
    "    name=\"RiskAnalystAgent\",\n",
    "    instructions=RISK_PROMPT,\n",
    "    output_type=AnalysisSummary,\n",
    ")\n"
   ]
  },
  {
   "cell_type": "markdown",
   "id": "6bb83ed0",
   "metadata": {},
   "source": [
    "##### Search Worker"
   ]
  },
  {
   "cell_type": "code",
   "execution_count": 8,
   "id": "12f16ddc",
   "metadata": {},
   "outputs": [],
   "source": [
    "# Given a search term, use web search to pull back a brief summary.\n",
    "# Summaries should be concise but capture the main financial points.\n",
    "INSTRUCTIONS = (\n",
    "    \"You are a research assistant specializing in financial topics. \"\n",
    "    \"Given a search term, use web search to retrieve up‑to‑date context and \"\n",
    "    \"produce a short summary of at most 300 words. Focus on key numbers, events, \"\n",
    "    \"or quotes that will be useful to a financial analyst.\"\n",
    ")\n",
    "\n",
    "search_agent = Agent(\n",
    "    name=\"FinancialSearchAgent\",\n",
    "    instructions=INSTRUCTIONS,\n",
    "    tools=[WebSearchTool()],\n",
    "    model_settings=ModelSettings(tool_choice=\"required\"),\n",
    ")\n"
   ]
  },
  {
   "cell_type": "markdown",
   "id": "0cee80f6",
   "metadata": {},
   "source": [
    "##### Verifier Agent"
   ]
  },
  {
   "cell_type": "code",
   "execution_count": 9,
   "id": "caf247b2",
   "metadata": {},
   "outputs": [],
   "source": [
    "# Agent to sanity‑check a synthesized report for consistency and recall.\n",
    "# This can be used to flag potential gaps or obvious mistakes.\n",
    "VERIFIER_PROMPT = (\n",
    "    \"You are a meticulous auditor. You have been handed a financial analysis report. \"\n",
    "    \"Your job is to verify the report is internally consistent, clearly sourced, and makes \"\n",
    "    \"no unsupported claims. Point out any issues or uncertainties.\"\n",
    ")\n",
    "\n",
    "\n",
    "class VerificationResult(BaseModel):\n",
    "    verified: bool\n",
    "    \"\"\"Whether the report seems coherent and plausible.\"\"\"\n",
    "\n",
    "    issues: str\n",
    "    \"\"\"If not verified, describe the main issues or concerns.\"\"\"\n",
    "\n",
    "\n",
    "verifier_agent = Agent(\n",
    "    name=\"VerificationAgent\",\n",
    "    instructions=VERIFIER_PROMPT,\n",
    "    model=\"gpt-4o\",\n",
    "    output_type=VerificationResult,\n",
    ")\n"
   ]
  },
  {
   "cell_type": "markdown",
   "id": "07c82f23",
   "metadata": {},
   "source": [
    "##### Writer Agent"
   ]
  },
  {
   "cell_type": "code",
   "execution_count": 10,
   "id": "9167cd76",
   "metadata": {},
   "outputs": [],
   "source": [
    "# Writer agent brings together the raw search results and optionally calls out\n",
    "# to sub‑analyst tools for specialized commentary, then returns a cohesive markdown report.\n",
    "WRITER_PROMPT = (\n",
    "    \"You are a senior financial analyst. You will be provided with the original query and \"\n",
    "    \"a set of raw search summaries. Your task is to synthesize these into a long‑form markdown \"\n",
    "    \"report (at least several paragraphs) including a short executive summary and follow‑up \"\n",
    "    \"questions. If needed, you can call the available analysis tools (e.g. fundamentals_analysis, \"\n",
    "    \"risk_analysis) to get short specialist write‑ups to incorporate.\"\n",
    ")\n",
    "\n",
    "\n",
    "class FinancialReportData(BaseModel):\n",
    "    short_summary: str\n",
    "    \"\"\"A short 2‑3 sentence executive summary.\"\"\"\n",
    "\n",
    "    markdown_report: str\n",
    "    \"\"\"The full markdown report.\"\"\"\n",
    "\n",
    "    follow_up_questions: list[str]\n",
    "    \"\"\"Suggested follow‑up questions for further research.\"\"\"\n",
    "\n",
    "\n",
    "# Note: We will attach handoffs to specialist analyst agents at runtime in the manager.\n",
    "# This shows how an agent can use handoffs to delegate to specialized subagents.\n",
    "writer_agent = Agent(\n",
    "    name=\"FinancialWriterAgent\",\n",
    "    instructions=WRITER_PROMPT,\n",
    "    model=\"gpt-4.5-preview-2025-02-27\",\n",
    "    output_type=FinancialReportData,\n",
    ")\n"
   ]
  },
  {
   "cell_type": "markdown",
   "id": "b282b768",
   "metadata": {},
   "source": [
    "**Step 5:** Implement report printer."
   ]
  },
  {
   "cell_type": "markdown",
   "id": "dbe8b50d",
   "metadata": {},
   "source": [
    "##### Printer"
   ]
  },
  {
   "cell_type": "code",
   "execution_count": 11,
   "id": "a4509de9",
   "metadata": {
    "code_folding": [
     7
    ]
   },
   "outputs": [],
   "source": [
    "from typing import Any\n",
    "\n",
    "from rich.console import Console, Group\n",
    "from rich.live import Live\n",
    "from rich.spinner import Spinner\n",
    "\n",
    "\n",
    "class Printer:\n",
    "    \"\"\"\n",
    "    Simple wrapper to stream status updates. Used by the financial bot\n",
    "    manager as it orchestrates planning, search and writing.\n",
    "    \"\"\"\n",
    "\n",
    "    def __init__(self, console: Console) -> None:\n",
    "        self.live = Live(console=console)\n",
    "        self.items: dict[str, tuple[str, bool]] = {}\n",
    "        self.hide_done_ids: set[str] = set()\n",
    "        self.live.start()\n",
    "\n",
    "    def end(self) -> None:\n",
    "        self.live.stop()\n",
    "\n",
    "    def hide_done_checkmark(self, item_id: str) -> None:\n",
    "        self.hide_done_ids.add(item_id)\n",
    "\n",
    "    def update_item(\n",
    "        self, item_id: str, content: str, is_done: bool = False, hide_checkmark: bool = False\n",
    "    ) -> None:\n",
    "        self.items[item_id] = (content, is_done)\n",
    "        if hide_checkmark:\n",
    "            self.hide_done_ids.add(item_id)\n",
    "        self.flush()\n",
    "\n",
    "    def mark_item_done(self, item_id: str) -> None:\n",
    "        self.items[item_id] = (self.items[item_id][0], True)\n",
    "        self.flush()\n",
    "\n",
    "    def flush(self) -> None:\n",
    "        renderables: list[Any] = []\n",
    "        for item_id, (content, is_done) in self.items.items():\n",
    "            if is_done:\n",
    "                prefix = \"✅ \" if item_id not in self.hide_done_ids else \"\"\n",
    "                renderables.append(prefix + content)\n",
    "            else:\n",
    "                renderables.append(Spinner(\"dots\", text=content))\n",
    "        self.live.update(Group(*renderables))\n"
   ]
  },
  {
   "cell_type": "markdown",
   "id": "8223bfca",
   "metadata": {},
   "source": [
    "**Step 6:** Orchestrate the Financial Research Project."
   ]
  },
  {
   "cell_type": "code",
   "execution_count": 17,
   "id": "64f95197",
   "metadata": {
    "code_folding": [
     0
    ]
   },
   "outputs": [],
   "source": [
    "class FinancialResearchManager:\n",
    "    \"\"\"\n",
    "    Orchestrates the full flow: planning, searching, sub‑analysis, writing, and verification.\n",
    "    \"\"\"\n",
    "\n",
    "    def __init__(self) -> None:\n",
    "        self.console = Console()\n",
    "        self.printer = Printer(self.console)\n",
    "\n",
    "    async def run(self, query: str) -> None:\n",
    "        trace_id = gen_trace_id()\n",
    "        \n",
    "        with trace(\"Financial research trace\", trace_id=trace_id):\n",
    "            \n",
    "            self.printer.update_item(\n",
    "                \"trace_id\",\n",
    "                f\"View trace: https://platform.openai.com/traces/trace?trace_id={trace_id}\",\n",
    "                is_done=True,\n",
    "                hide_checkmark=True,\n",
    "            )\n",
    "            self.printer.update_item(\"start\", \"Starting financial research...\", is_done=True)\n",
    "            search_plan = await self._plan_searches(query)\n",
    "            search_results = await self._perform_searches(search_plan)\n",
    "            report = await self._write_report(query, search_results)\n",
    "            verification = await self._verify_report(report)\n",
    "\n",
    "            final_report = f\"Report summary\\n\\n{report.short_summary}\"\n",
    "            self.printer.update_item(\"final_report\", final_report, is_done=True)\n",
    "\n",
    "            self.printer.end()\n",
    "\n",
    "        # Print to stdout\n",
    "        print(\"\\n\\n=====REPORT=====\\n\\n\")\n",
    "        print(f\"Report:\\n{report.markdown_report}\")\n",
    "        print(\"\\n\\n=====FOLLOW UP QUESTIONS=====\\n\\n\")\n",
    "        print(\"\\n\".join(report.follow_up_questions))\n",
    "        print(\"\\n\\n=====VERIFICATION=====\\n\\n\")\n",
    "        print(verification)\n",
    "\n",
    "    async def _plan_searches(self, query: str) -> FinancialSearchPlan:\n",
    "        self.printer.update_item(\"planning\", \"Planning searches...\")\n",
    "        result = await Runner.run(planner_agent, f\"Query: {query}\")\n",
    "        self.printer.update_item(\n",
    "            \"planning\",\n",
    "            f\"Will perform {len(result.final_output.searches)} searches\",\n",
    "            is_done=True,\n",
    "        )\n",
    "        return result.final_output_as(FinancialSearchPlan)\n",
    "\n",
    "    async def _perform_searches(self, search_plan: FinancialSearchPlan) -> Sequence[str]:\n",
    "        with custom_span(\"Search the web\"):\n",
    "            self.printer.update_item(\"searching\", \"Searching...\")\n",
    "            tasks = [asyncio.create_task(self._search(item)) for item in search_plan.searches]\n",
    "            results: list[str] = []\n",
    "            num_completed = 0\n",
    "            for task in asyncio.as_completed(tasks):\n",
    "                result = await task\n",
    "                if result is not None:\n",
    "                    results.append(result)\n",
    "                num_completed += 1\n",
    "                self.printer.update_item(\n",
    "                    \"searching\", f\"Searching... {num_completed}/{len(tasks)} completed\"\n",
    "                )\n",
    "            self.printer.mark_item_done(\"searching\")\n",
    "            return results\n",
    "\n",
    "    async def _search(self, item: FinancialSearchItem) -> str | None:\n",
    "        \n",
    "        input_data = f\"Search term: {item.query}\\nReason: {item.reason}\"\n",
    "        try:\n",
    "            result = await Runner.run(search_agent, input_data)\n",
    "            return str(result.final_output)\n",
    "        except Exception:\n",
    "            return None\n",
    "\n",
    "    async def _write_report(self, query: str, search_results: Sequence[str]) -> FinancialReportData:\n",
    "        \n",
    "        # Expose the specialist analysts as tools so the writer can invoke them inline\n",
    "        # and still produce the final FinancialReportData output.\n",
    "        \n",
    "        fundamentals_tool = financials_agent.as_tool(\n",
    "            tool_name=\"fundamentals_analysis\",\n",
    "            tool_description=\"Use to get a short write‑up of key financial metrics\",\n",
    "            custom_output_extractor=_summary_extractor,\n",
    "        )\n",
    "        \n",
    "        risk_tool = risk_agent.as_tool(\n",
    "            tool_name=\"risk_analysis\",\n",
    "            tool_description=\"Use to get a short write‑up of potential red flags\",\n",
    "            custom_output_extractor=_summary_extractor,\n",
    "        )\n",
    "        \n",
    "        writer_with_tools = writer_agent.clone(tools=[fundamentals_tool, risk_tool])\n",
    "        self.printer.update_item(\"writing\", \"Thinking about report...\")\n",
    "        input_data = f\"Original query: {query}\\nSummarized search results: {search_results}\"\n",
    "        result = Runner.run_streamed(writer_with_tools, input_data)\n",
    "        \n",
    "        update_messages = [\n",
    "            \"Planning report structure...\",\n",
    "            \"Writing sections...\",\n",
    "            \"Finalizing report...\",\n",
    "        ]\n",
    "        last_update = time.time()\n",
    "        next_message = 0\n",
    "        \n",
    "        async for _ in result.stream_events():\n",
    "            if time.time() - last_update > 5 and next_message < len(update_messages):\n",
    "                self.printer.update_item(\"writing\", update_messages[next_message])\n",
    "                next_message += 1\n",
    "                last_update = time.time()\n",
    "        self.printer.mark_item_done(\"writing\")\n",
    "        \n",
    "        return result.final_output_as(FinancialReportData)\n",
    "\n",
    "    async def _verify_report(self, report: FinancialReportData) -> VerificationResult:\n",
    "        \n",
    "        self.printer.update_item(\"verifying\", \"Verifying report...\")\n",
    "        result = await Runner.run(verifier_agent, report.markdown_report)\n",
    "        self.printer.mark_item_done(\"verifying\")\n",
    "        return result.final_output_as(VerificationResult)\n"
   ]
  },
  {
   "cell_type": "code",
   "execution_count": 13,
   "id": "2dd7fe59",
   "metadata": {},
   "outputs": [
    {
     "data": {
      "application/vnd.jupyter.widget-view+json": {
       "model_id": "5b132a484e6849f0931afaa5ee614e3c",
       "version_major": 2,
       "version_minor": 0
      },
      "text/plain": [
       "Output()"
      ]
     },
     "metadata": {},
     "output_type": "display_data"
    },
    {
     "ename": "CancelledError",
     "evalue": "",
     "output_type": "error",
     "traceback": [
      "\u001b[0;31m---------------------------------------------------------------------------\u001b[0m",
      "\u001b[0;31mCancelledError\u001b[0m                            Traceback (most recent call last)",
      "Cell \u001b[0;32mIn[13], line 3\u001b[0m\n\u001b[1;32m      1\u001b[0m query \u001b[38;5;241m=\u001b[39m \u001b[38;5;124m\"\u001b[39m\u001b[38;5;124mWrite an Investment Memo on AMTD Group\u001b[39m\u001b[38;5;124m\"\u001b[39m \u001b[38;5;66;03m#input(\"Enter a financial research query: \")\u001b[39;00m\n\u001b[1;32m      2\u001b[0m mgr \u001b[38;5;241m=\u001b[39m FinancialResearchManager()\n\u001b[0;32m----> 3\u001b[0m \u001b[38;5;28;01mawait\u001b[39;00m mgr\u001b[38;5;241m.\u001b[39mrun(query)\n",
      "Cell \u001b[0;32mIn[12], line 21\u001b[0m, in \u001b[0;36mFinancialResearchManager.run\u001b[0;34m(self, query)\u001b[0m\n\u001b[1;32m     19\u001b[0m \u001b[38;5;28mself\u001b[39m\u001b[38;5;241m.\u001b[39mprinter\u001b[38;5;241m.\u001b[39mupdate_item(\u001b[38;5;124m\"\u001b[39m\u001b[38;5;124mstart\u001b[39m\u001b[38;5;124m\"\u001b[39m, \u001b[38;5;124m\"\u001b[39m\u001b[38;5;124mStarting financial research...\u001b[39m\u001b[38;5;124m\"\u001b[39m, is_done\u001b[38;5;241m=\u001b[39m\u001b[38;5;28;01mTrue\u001b[39;00m)\n\u001b[1;32m     20\u001b[0m search_plan \u001b[38;5;241m=\u001b[39m \u001b[38;5;28;01mawait\u001b[39;00m \u001b[38;5;28mself\u001b[39m\u001b[38;5;241m.\u001b[39m_plan_searches(query)\n\u001b[0;32m---> 21\u001b[0m search_results \u001b[38;5;241m=\u001b[39m \u001b[38;5;28;01mawait\u001b[39;00m \u001b[38;5;28mself\u001b[39m\u001b[38;5;241m.\u001b[39m_perform_searches(search_plan)\n\u001b[1;32m     22\u001b[0m report \u001b[38;5;241m=\u001b[39m \u001b[38;5;28;01mawait\u001b[39;00m \u001b[38;5;28mself\u001b[39m\u001b[38;5;241m.\u001b[39m_write_report(query, search_results)\n\u001b[1;32m     23\u001b[0m verification \u001b[38;5;241m=\u001b[39m \u001b[38;5;28;01mawait\u001b[39;00m \u001b[38;5;28mself\u001b[39m\u001b[38;5;241m.\u001b[39m_verify_report(report)\n",
      "Cell \u001b[0;32mIn[12], line 55\u001b[0m, in \u001b[0;36mFinancialResearchManager._perform_searches\u001b[0;34m(self, search_plan)\u001b[0m\n\u001b[1;32m     53\u001b[0m num_completed \u001b[38;5;241m=\u001b[39m \u001b[38;5;241m0\u001b[39m\n\u001b[1;32m     54\u001b[0m \u001b[38;5;28;01mfor\u001b[39;00m task \u001b[38;5;129;01min\u001b[39;00m asyncio\u001b[38;5;241m.\u001b[39mas_completed(tasks):\n\u001b[0;32m---> 55\u001b[0m     result \u001b[38;5;241m=\u001b[39m \u001b[38;5;28;01mawait\u001b[39;00m task\n\u001b[1;32m     56\u001b[0m     \u001b[38;5;28;01mif\u001b[39;00m result \u001b[38;5;129;01mis\u001b[39;00m \u001b[38;5;129;01mnot\u001b[39;00m \u001b[38;5;28;01mNone\u001b[39;00m:\n\u001b[1;32m     57\u001b[0m         results\u001b[38;5;241m.\u001b[39mappend(result)\n",
      "File \u001b[0;32m/usr/lib/python3.12/asyncio/tasks.py:627\u001b[0m, in \u001b[0;36mas_completed.<locals>._wait_for_one\u001b[0;34m()\u001b[0m\n\u001b[1;32m    626\u001b[0m \u001b[38;5;28;01masync\u001b[39;00m \u001b[38;5;28;01mdef\u001b[39;00m \u001b[38;5;21m_wait_for_one\u001b[39m():\n\u001b[0;32m--> 627\u001b[0m     f \u001b[38;5;241m=\u001b[39m \u001b[38;5;28;01mawait\u001b[39;00m done\u001b[38;5;241m.\u001b[39mget()\n\u001b[1;32m    628\u001b[0m     \u001b[38;5;28;01mif\u001b[39;00m f \u001b[38;5;129;01mis\u001b[39;00m \u001b[38;5;28;01mNone\u001b[39;00m:\n\u001b[1;32m    629\u001b[0m         \u001b[38;5;66;03m# Dummy value from _on_timeout().\u001b[39;00m\n\u001b[1;32m    630\u001b[0m         \u001b[38;5;28;01mraise\u001b[39;00m exceptions\u001b[38;5;241m.\u001b[39mTimeoutError\n",
      "File \u001b[0;32m/usr/lib/python3.12/asyncio/queues.py:158\u001b[0m, in \u001b[0;36mQueue.get\u001b[0;34m(self)\u001b[0m\n\u001b[1;32m    156\u001b[0m \u001b[38;5;28mself\u001b[39m\u001b[38;5;241m.\u001b[39m_getters\u001b[38;5;241m.\u001b[39mappend(getter)\n\u001b[1;32m    157\u001b[0m \u001b[38;5;28;01mtry\u001b[39;00m:\n\u001b[0;32m--> 158\u001b[0m     \u001b[38;5;28;01mawait\u001b[39;00m getter\n\u001b[1;32m    159\u001b[0m \u001b[38;5;28;01mexcept\u001b[39;00m:\n\u001b[1;32m    160\u001b[0m     getter\u001b[38;5;241m.\u001b[39mcancel()  \u001b[38;5;66;03m# Just in case getter is not done yet.\u001b[39;00m\n",
      "\u001b[0;31mCancelledError\u001b[0m: "
     ]
    }
   ],
   "source": [
    "query = \"Write an Investment Memo on AMTD Group\" #input(\"Enter a financial research query: \")\n",
    "mgr = FinancialResearchManager()\n",
    "await mgr.run(query)\n"
   ]
  },
  {
   "cell_type": "code",
   "execution_count": null,
   "id": "dbc60563",
   "metadata": {},
   "outputs": [],
   "source": []
  }
 ],
 "metadata": {
  "kernelspec": {
   "display_name": "venv",
   "language": "python",
   "name": "venv"
  },
  "language_info": {
   "codemirror_mode": {
    "name": "ipython",
    "version": 3
   },
   "file_extension": ".py",
   "mimetype": "text/x-python",
   "name": "python",
   "nbconvert_exporter": "python",
   "pygments_lexer": "ipython3",
   "version": "3.12.3"
  }
 },
 "nbformat": 4,
 "nbformat_minor": 5
}
